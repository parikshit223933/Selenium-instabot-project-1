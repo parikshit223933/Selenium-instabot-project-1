{
 "cells": [
  {
   "cell_type": "markdown",
   "metadata": {},
   "source": [
    "<h1>Usage Instructions</h1><br>\n",
    "<li>Just run the complete code once. Do not run each Cell separatly</li>\n",
    "<li>Let the driver window run in maximised mode. Do not run it in windowed mode(It will maximise by itself)</li>\n",
    "<li>Just run the code, sit back and relax.</li>\n",
    "<li>Do not make any changes in the code except the SAMPLE_USERNAME and SAMPLE_PASSWORD. you can easily change them by refering the code below.</li>\n",
    "<li>This code is written and tested with 4G network(AIRTEL). if you are using a 3G connection, you might want to change the time gap between several Cells(at the end of some cells there is a line of code whose parameters you might want to alter.</li>\n",
    "<li>Recommended network is Airtel 4G or Jio 4G</li>\n",
    "<li>Sometimes you will feel like the website is frozen. No! Its not. The code is still running doing its work. You will notice this specially when the list of followers is being scrolled down. it will take some time to read through all the follower's usernames.</li>"
   ]
  },
  {
   "cell_type": "markdown",
   "metadata": {},
   "source": [
    "<h2>Importing Important Libraries:</h2>"
   ]
  },
  {
   "cell_type": "code",
   "execution_count": 1,
   "metadata": {},
   "outputs": [],
   "source": [
    "from selenium import webdriver\n",
    "from selenium.webdriver.common.keys import Keys\n",
    "import time\n",
    "from selenium.common.exceptions import NoSuchElementException\n",
    "from selenium.common.exceptions import StaleElementReferenceException\n",
    "from selenium.common.exceptions import TimeoutException\n",
    "from selenium.webdriver.support.ui import WebDriverWait\n",
    "from selenium.webdriver.support import expected_conditions as EC\n",
    "from selenium.webdriver.common.by import By\n",
    "from selenium.webdriver.support.select import Select"
   ]
  },
  {
   "cell_type": "markdown",
   "metadata": {},
   "source": [
    "<h2>Starting Chrome WebDriver:</h2>"
   ]
  },
  {
   "cell_type": "code",
   "execution_count": 2,
   "metadata": {},
   "outputs": [],
   "source": [
    "driver=webdriver.Chrome(r'C:\\Users\\Uday sonu\\Desktop\\InstaBot\\chromedriver.exe')\n",
    "#set the location where the chrome driver is located."
   ]
  },
  {
   "cell_type": "markdown",
   "metadata": {},
   "source": [
    "<h2>Visiting Instagram</h2>\n",
    "<br>Visiting instagram and maximising the window"
   ]
  },
  {
   "cell_type": "code",
   "execution_count": 3,
   "metadata": {},
   "outputs": [],
   "source": [
    "driver.get('https://www.instagram.com/')\n",
    "driver.maximize_window()\n",
    "# waiter=WebDriverWait(driver, 10).until(EC.presence_of_element_located((By.LINK_TEXT, \"Log in\")))"
   ]
  },
  {
   "cell_type": "markdown",
   "metadata": {},
   "source": [
    "<h2>Visiting logging portal of Instagram:</h2>"
   ]
  },
  {
   "cell_type": "code",
   "execution_count": 4,
   "metadata": {},
   "outputs": [],
   "source": [
    "# driver.find_element_by_link_text('Log in').click()\n",
    "waiter=WebDriverWait(driver, 10).until(EC.presence_of_element_located((By.NAME, \"username\")))\n",
    "time.sleep(2)"
   ]
  },
  {
   "cell_type": "markdown",
   "metadata": {},
   "source": [
    "<h2>Input Credentials:</h2>\n",
    "<br>Make sure to input appropriate username and password."
   ]
  },
  {
   "cell_type": "code",
   "execution_count": 5,
   "metadata": {},
   "outputs": [],
   "source": [
    "username=\"udaysonubakka123@gmail.com\"\n",
    "password=\"udayyadusonu@2\"\n",
    "waiter=WebDriverWait(driver,10).until(EC.presence_of_element_located((By.NAME,\"username\")))\n",
    "username_field=driver.find_element_by_name('username')\n",
    "password_field=driver.find_element_by_name('password')\n",
    "username_field.send_keys(username)\n",
    "password_field.send_keys(password)\n",
    "Login_btn=driver.find_element_by_class_name('L3NKy')\n",
    "Login_btn.click()"
   ]
  },
  {
   "cell_type": "markdown",
   "metadata": {},
   "source": [
    "# Passing Save Login Info check"
   ]
  },
  {
   "cell_type": "code",
   "execution_count": 6,
   "metadata": {},
   "outputs": [],
   "source": [
    "waiter=WebDriverWait(driver,10).until(EC.presence_of_element_located((By.CLASS_NAME,\"coreSpriteKeyhole\")))\n",
    "Now_now_btn=driver.find_element_by_xpath(\"//button[contains(@class,'sqdOP')]\").click()"
   ]
  },
  {
   "cell_type": "markdown",
   "metadata": {},
   "source": [
    "<h2>Supressing \"Turn On Notifications\" Window:</h2>"
   ]
  },
  {
   "cell_type": "code",
   "execution_count": 7,
   "metadata": {},
   "outputs": [],
   "source": [
    "waiter=WebDriverWait(driver,5).until(EC.visibility_of_any_elements_located((By.CLASS_NAME,\"HoLwm\")))\n",
    "driver.find_element_by_class_name('HoLwm').click()\n",
    "waiter=WebDriverWait(driver, 10).until(EC.presence_of_element_located((By.CLASS_NAME, \"TqC_a\")))"
   ]
  },
  {
   "cell_type": "markdown",
   "metadata": {},
   "source": [
    "<h2>Enabling the Search Box to recieve input:</h2>\n",
    "<br>By clicking on it."
   ]
  },
  {
   "cell_type": "code",
   "execution_count": 8,
   "metadata": {},
   "outputs": [],
   "source": [
    "search_box=driver.find_element_by_class_name('TqC_a').click()\n",
    "waiter=WebDriverWait(driver, 10).until(EC.presence_of_element_located((By.CLASS_NAME, \"XTCLo\")))"
   ]
  },
  {
   "cell_type": "markdown",
   "metadata": {},
   "source": [
    "<h2>Input \"Food\" in the search box:</h2>"
   ]
  },
  {
   "cell_type": "code",
   "execution_count": 9,
   "metadata": {},
   "outputs": [],
   "source": [
    "search_box=driver.find_element_by_class_name('XTCLo')\n",
    "search_box.send_keys('food')\n",
    "waiter=WebDriverWait(driver, 10).until(EC.presence_of_element_located((By.XPATH, '//a[@class=\"yCE8d  \"]/div/div[2]/div/span')))"
   ]
  },
  {
   "cell_type": "markdown",
   "metadata": {},
   "source": [
    "<h4>Printing all the names of the Instagram Handles that are displayed in list after typing “food”</h4>"
   ]
  },
  {
   "cell_type": "code",
   "execution_count": 10,
   "metadata": {
    "scrolled": true
   },
   "outputs": [
    {
     "name": "stdout",
     "output_type": "stream",
     "text": [
      "streetfoodrecipe\n",
      "nitjfoodfestival\n",
      "foodscholarventure\n",
      "foodtechaspirant\n",
      "foodies_findings\n",
      "dilsefoodie\n",
      "food\n",
      "foodtech.__\n",
      "foodtechspace\n",
      "food.facade.fantasy\n",
      "food.sector\n",
      "foodies_at_hm\n",
      "food_tech_updates\n",
      "foodl_o_v_e_\n",
      "fsnh.solutions\n",
      "foodemyofficial\n",
      "foodie_addicted_\n",
      "foodtastingmission\n",
      "food.tech.plus\n",
      "food___diaries__\n",
      "foodpanda_talks\n",
      "madras__foodie\n",
      "foodiecity_\n",
      "searchingsamayal_foodie\n",
      "yourfoodlab\n",
      "thehungrygujju\n",
      "wirallyfood\n",
      "foodozers\n",
      "foodtalkindia\n",
      "foodtechsociety\n",
      "foodtech_simplified\n",
      "food_belly11\n",
      "foodyypreneur\n",
      "FOOD BAZAR\n",
      "food_lunatic\n",
      "foodhunter_sabu\n",
      "foodandmorewithhansie\n",
      "the.chennai.foodie\n",
      "purabinaha\n",
      "buzzfeedfood\n",
      "foodtrails.india\n",
      "foodie_incarnate\n",
      "foodmaniacindia\n",
      "food_gambler\n",
      "socalledfoodies\n",
      "foodie_woman\n",
      "foodchoiceofmumbai\n",
      "resh_taurants\n",
      "foodsmix\n",
      "delhifoods\n",
      "chocolateparadise\n",
      "foodstoriesbyayesha\n",
      "foodinsider\n",
      "food_first_always\n",
      "foodytravelmoody\n"
     ]
    }
   ],
   "source": [
    "for i in driver.find_elements_by_xpath('//a[@class=\"yCE8d  \"]/div/div[2]/div/span'):\n",
    "    print(i.get_attribute('innerHTML'))\n",
    "waiter=WebDriverWait(driver, 10).until(EC.presence_of_element_located((By.CLASS_NAME, \"coreSpriteSearchClear\")))"
   ]
  },
  {
   "cell_type": "markdown",
   "metadata": {},
   "source": [
    "<h2>Clearing Input:</h2>"
   ]
  },
  {
   "cell_type": "code",
   "execution_count": 11,
   "metadata": {},
   "outputs": [],
   "source": [
    "driver.find_element_by_class_name('coreSpriteSearchClear').click()\n",
    "waiter=WebDriverWait(driver, 10).until(EC.presence_of_element_located((By.CLASS_NAME, \"TqC_a\")))"
   ]
  },
  {
   "cell_type": "markdown",
   "metadata": {},
   "source": [
    "<h2>Enabling Search box:</h2>"
   ]
  },
  {
   "cell_type": "code",
   "execution_count": 12,
   "metadata": {},
   "outputs": [],
   "source": [
    "driver.find_element_by_class_name('TqC_a').click()\n",
    "waiter=WebDriverWait(driver, 10).until(EC.presence_of_element_located((By.CLASS_NAME, \"XTCLo\")))"
   ]
  },
  {
   "cell_type": "markdown",
   "metadata": {},
   "source": [
    "<h2>Searching and Opening profile of \"So Delhi\" :</h2>"
   ]
  },
  {
   "cell_type": "code",
   "execution_count": 13,
   "metadata": {},
   "outputs": [],
   "source": [
    "search_box=driver.find_element_by_class_name('XTCLo')\n",
    "search_box.send_keys('So Delhi')\n",
    "waiter=WebDriverWait(driver, 10).until(EC.presence_of_element_located((By.CLASS_NAME, \"yCE8d\")))"
   ]
  },
  {
   "cell_type": "code",
   "execution_count": 14,
   "metadata": {},
   "outputs": [
    {
     "ename": "TimeoutException",
     "evalue": "Message: \n",
     "output_type": "error",
     "traceback": [
      "\u001b[1;31m---------------------------------------------------------------------------\u001b[0m",
      "\u001b[1;31mTimeoutException\u001b[0m                          Traceback (most recent call last)",
      "\u001b[1;32m<ipython-input-14-fbb300abed7d>\u001b[0m in \u001b[0;36m<module>\u001b[1;34m\u001b[0m\n\u001b[0;32m      1\u001b[0m \u001b[0mdriver\u001b[0m\u001b[1;33m.\u001b[0m\u001b[0mfind_element_by_class_name\u001b[0m\u001b[1;33m(\u001b[0m\u001b[1;34m'yCE8d'\u001b[0m\u001b[1;33m)\u001b[0m\u001b[1;33m.\u001b[0m\u001b[0mclick\u001b[0m\u001b[1;33m(\u001b[0m\u001b[1;33m)\u001b[0m\u001b[1;33m\u001b[0m\u001b[1;33m\u001b[0m\u001b[0m\n\u001b[1;32m----> 2\u001b[1;33m \u001b[0mwaiter\u001b[0m\u001b[1;33m=\u001b[0m\u001b[0mWebDriverWait\u001b[0m\u001b[1;33m(\u001b[0m\u001b[0mdriver\u001b[0m\u001b[1;33m,\u001b[0m \u001b[1;36m10\u001b[0m\u001b[1;33m)\u001b[0m\u001b[1;33m.\u001b[0m\u001b[0muntil\u001b[0m\u001b[1;33m(\u001b[0m\u001b[0mEC\u001b[0m\u001b[1;33m.\u001b[0m\u001b[0mpresence_of_element_located\u001b[0m\u001b[1;33m(\u001b[0m\u001b[1;33m(\u001b[0m\u001b[0mBy\u001b[0m\u001b[1;33m.\u001b[0m\u001b[0mCLASS_NAME\u001b[0m\u001b[1;33m,\u001b[0m \u001b[1;34m\"_6VtSN\"\u001b[0m\u001b[1;33m)\u001b[0m\u001b[1;33m)\u001b[0m\u001b[1;33m)\u001b[0m\u001b[1;33m\u001b[0m\u001b[1;33m\u001b[0m\u001b[0m\n\u001b[0m",
      "\u001b[1;32m~\\Anaconda3\\lib\\site-packages\\selenium\\webdriver\\support\\wait.py\u001b[0m in \u001b[0;36muntil\u001b[1;34m(self, method, message)\u001b[0m\n\u001b[0;32m     78\u001b[0m             \u001b[1;32mif\u001b[0m \u001b[0mtime\u001b[0m\u001b[1;33m.\u001b[0m\u001b[0mtime\u001b[0m\u001b[1;33m(\u001b[0m\u001b[1;33m)\u001b[0m \u001b[1;33m>\u001b[0m \u001b[0mend_time\u001b[0m\u001b[1;33m:\u001b[0m\u001b[1;33m\u001b[0m\u001b[1;33m\u001b[0m\u001b[0m\n\u001b[0;32m     79\u001b[0m                 \u001b[1;32mbreak\u001b[0m\u001b[1;33m\u001b[0m\u001b[1;33m\u001b[0m\u001b[0m\n\u001b[1;32m---> 80\u001b[1;33m         \u001b[1;32mraise\u001b[0m \u001b[0mTimeoutException\u001b[0m\u001b[1;33m(\u001b[0m\u001b[0mmessage\u001b[0m\u001b[1;33m,\u001b[0m \u001b[0mscreen\u001b[0m\u001b[1;33m,\u001b[0m \u001b[0mstacktrace\u001b[0m\u001b[1;33m)\u001b[0m\u001b[1;33m\u001b[0m\u001b[1;33m\u001b[0m\u001b[0m\n\u001b[0m\u001b[0;32m     81\u001b[0m \u001b[1;33m\u001b[0m\u001b[0m\n\u001b[0;32m     82\u001b[0m     \u001b[1;32mdef\u001b[0m \u001b[0muntil_not\u001b[0m\u001b[1;33m(\u001b[0m\u001b[0mself\u001b[0m\u001b[1;33m,\u001b[0m \u001b[0mmethod\u001b[0m\u001b[1;33m,\u001b[0m \u001b[0mmessage\u001b[0m\u001b[1;33m=\u001b[0m\u001b[1;34m''\u001b[0m\u001b[1;33m)\u001b[0m\u001b[1;33m:\u001b[0m\u001b[1;33m\u001b[0m\u001b[1;33m\u001b[0m\u001b[0m\n",
      "\u001b[1;31mTimeoutException\u001b[0m: Message: \n"
     ]
    }
   ],
   "source": [
    "driver.find_element_by_class_name('yCE8d').click()\n",
    "waiter=WebDriverWait(driver, 10).until(EC.presence_of_element_located((By.CLASS_NAME, \"_6VtSN\")))"
   ]
  },
  {
   "cell_type": "markdown",
   "metadata": {},
   "source": [
    "<h2>Following So Delhi :</h2>"
   ]
  },
  {
   "cell_type": "code",
   "execution_count": null,
   "metadata": {},
   "outputs": [],
   "source": [
    "if driver.find_element_by_class_name('_6VtSN').get_attribute('innerHTML')=='Following':\n",
    "    print('You are already following the page!')\n",
    "else:\n",
    "    driver.find_element_by_xpath('//button[contains(@class, \"_6VtSN\")]').click()\n",
    "waiter=WebDriverWait(driver, 10).until(EC.presence_of_element_located((By.CLASS_NAME, \"_6VtSN\")))\n",
    "time.sleep(3)"
   ]
  },
  {
   "cell_type": "markdown",
   "metadata": {},
   "source": [
    "<h2>Unfollowing So Delhi :</h2>"
   ]
  },
  {
   "cell_type": "code",
   "execution_count": null,
   "metadata": {},
   "outputs": [],
   "source": [
    "if driver.find_element_by_class_name('_6VtSN').get_attribute('innerHTML')=='Following':\n",
    "    driver.find_element_by_class_name('_6VtSN').click()\n",
    "    driver.find_element_by_xpath('//button[contains(@class, \"-Cab_\")]').click()\n",
    "else:\n",
    "    print('You have already unfollowed the page')"
   ]
  },
  {
   "cell_type": "markdown",
   "metadata": {},
   "source": [
    "<h2>Enabling the search box to visit \"dilsefoodie\":</h2>"
   ]
  },
  {
   "cell_type": "code",
   "execution_count": null,
   "metadata": {},
   "outputs": [],
   "source": [
    "driver.find_element_by_class_name('TqC_a').click()\n",
    "waiter=WebDriverWait(driver, 10).until(EC.presence_of_element_located((By.CLASS_NAME, \"XTCLo\")))"
   ]
  },
  {
   "cell_type": "markdown",
   "metadata": {},
   "source": [
    "<h2>Opening Profile of \"dilsefoodie\" :</h2>"
   ]
  },
  {
   "cell_type": "code",
   "execution_count": null,
   "metadata": {},
   "outputs": [],
   "source": [
    "search_box=driver.find_element_by_class_name('XTCLo')\n",
    "search_box.send_keys('dilsefoodie')\n",
    "waiter=WebDriverWait(driver, 10).until(EC.presence_of_element_located((By.CLASS_NAME, \"yCE8d\")))"
   ]
  },
  {
   "cell_type": "code",
   "execution_count": null,
   "metadata": {},
   "outputs": [],
   "source": [
    "driver.find_element_by_class_name('yCE8d').click()\n",
    "time.sleep(3)"
   ]
  },
  {
   "cell_type": "markdown",
   "metadata": {},
   "source": [
    "<h2>Scrolling manually to load elements:</h2>"
   ]
  },
  {
   "cell_type": "code",
   "execution_count": null,
   "metadata": {},
   "outputs": [],
   "source": [
    "driver.execute_script('window.scrollBy(0, 3000);')\n",
    "time.sleep(2.5)\n",
    "driver.execute_script('window.scrollBy(0, 3000);')\n",
    "time.sleep(2.5)\n",
    "waiter=WebDriverWait(driver, 10).until(EC.presence_of_element_located((By.XPATH, '//div[contains(@class, \"Nnq7C\")]/div/a/div[1]')))"
   ]
  },
  {
   "cell_type": "markdown",
   "metadata": {},
   "source": [
    "<h2>Liking 30 posts of dilsefoodie:</h2>"
   ]
  },
  {
   "cell_type": "code",
   "execution_count": null,
   "metadata": {},
   "outputs": [],
   "source": [
    "#liking 30 posts\n",
    "count=0\n",
    "for i in driver.find_elements_by_xpath('//div[contains(@class, \"Nnq7C\")]/div/a/div[1]'):\n",
    "    i.click()\n",
    "    trier=WebDriverWait(driver, 10).until(EC.presence_of_element_located((By.XPATH,\n",
    "                                                                    \"//button[contains(@class, 'dCJp8')]\")))\n",
    "    \n",
    "    try:\n",
    "        WebDriverWait(driver, 5).until(EC.presence_of_element_located((By.XPATH, '//section[contains(@class, \"ltpMr\")]')))\n",
    "        time.sleep(0.8)\n",
    "        driver.find_element_by_xpath('//button[contains(@class, \"dCJp8\")]/span[contains(@class, \"glyphsSpriteHeart__outline__24__grey_9\")]').click()\n",
    "    except NoSuchElementException:\n",
    "        print('Already Liked!')\n",
    "    driver.back()\n",
    "    count+=1\n",
    "    if count==30:\n",
    "        print('Liked All(30)!')\n",
    "        break\n",
    "waiter=WebDriverWait(driver, 10).until(EC.presence_of_element_located((By.XPATH, '//div[contains(@class, \"Nnq7C\")]/div/a/div[1]')))\n",
    "time.sleep(2)\n",
    "driver.execute_script('window.scrollTo(0, 0)')"
   ]
  },
  {
   "cell_type": "markdown",
   "metadata": {},
   "source": [
    "<h2>Unliking 30 posts of dilsefoodie:</h2>"
   ]
  },
  {
   "cell_type": "code",
   "execution_count": null,
   "metadata": {},
   "outputs": [],
   "source": [
    "#unliking 30 posts\n",
    "count=0\n",
    "for i in driver.find_elements_by_xpath('//div[contains(@class, \"Nnq7C\")]/div/a/div[1]'):\n",
    "    i.click()\n",
    "    trier=WebDriverWait(driver, 10).until(EC.presence_of_element_located((By.XPATH,\n",
    "                                                                    \"//button[contains(@class, 'dCJp8')]\")))\n",
    "    \n",
    "    try:\n",
    "        WebDriverWait(driver, 5).until(EC.presence_of_element_located((By.XPATH, '//section[contains(@class, \"ltpMr\")]')))\n",
    "        driver.find_element_by_xpath('//button[contains(@class, \"dCJp8\")]/span[contains(@class, \"glyphsSpriteHeart__filled__24__red_5\")]').click()\n",
    "    except NoSuchElementException:\n",
    "        print('Already UnLiked!')\n",
    "    driver.back()\n",
    "    count+=1\n",
    "    time.sleep(0.3)\n",
    "    if count==30:\n",
    "        print('UnLiked All(30)!')\n",
    "        break\n",
    "time.sleep(2)"
   ]
  },
  {
   "cell_type": "markdown",
   "metadata": {},
   "source": [
    "<h2>Visiting So Delhi:</h2>"
   ]
  },
  {
   "cell_type": "code",
   "execution_count": null,
   "metadata": {},
   "outputs": [],
   "source": [
    "driver.find_element_by_class_name('TqC_a').click()\n",
    "waiter=WebDriverWait(driver, 10).until(EC.presence_of_element_located((By.CLASS_NAME, \"XTCLo\")))"
   ]
  },
  {
   "cell_type": "code",
   "execution_count": null,
   "metadata": {},
   "outputs": [],
   "source": [
    "search_box=driver.find_element_by_class_name('XTCLo')\n",
    "search_box.send_keys('So Delhi')\n",
    "waiter=WebDriverWait(driver, 10).until(EC.presence_of_element_located((By.CLASS_NAME, \"yCE8d\")))"
   ]
  },
  {
   "cell_type": "code",
   "execution_count": null,
   "metadata": {},
   "outputs": [],
   "source": [
    "driver.find_element_by_class_name('yCE8d').click()\n",
    "waiter=WebDriverWait(driver, 10).until(EC.presence_of_element_located((By.CLASS_NAME, \"_6VtSN\")))\n",
    "time.sleep(3)"
   ]
  },
  {
   "cell_type": "markdown",
   "metadata": {},
   "source": [
    "<h2>Extracting the usernames of the first 500 followers of 'sodelhi' :</h2>"
   ]
  },
  {
   "cell_type": "code",
   "execution_count": null,
   "metadata": {},
   "outputs": [],
   "source": [
    "try:\n",
    "    driver.execute_script('window.scrollTo(0, 0)')\n",
    "    driver.find_element_by_xpath('//a[@class=\"-nal3 \"]/span[@class=\"g47SY \"]').click()\n",
    "except NoSuchElementException:\n",
    "    driver.find_element_by_xpath('//a[@class=\" _81NM2\"]/span[contains(@class, \"g47SY\")]').click()\n",
    "waiter=WebDriverWait(driver, 10).until(EC.presence_of_element_located((By.XPATH, '//a[contains(@class, \"notranslate\")]')))"
   ]
  },
  {
   "cell_type": "code",
   "execution_count": null,
   "metadata": {
    "scrolled": true
   },
   "outputs": [],
   "source": [
    "while True:\n",
    "    try:\n",
    "        sodelhi=[]\n",
    "        count=0\n",
    "        while True:\n",
    "            elements=driver.find_elements_by_xpath('//a[contains(@class, \"notranslate\")]')\n",
    "            if len(elements)<500:\n",
    "                waiter=WebDriverWait(driver, 10).until(EC.presence_of_element_located((By.XPATH, '//ul[contains(@class, \"jSC57\")]')))\n",
    "                driver.execute_script('arguments[0].scrollIntoView(0, 100);', driver.find_element_by_xpath('//ul[contains(@class, \"jSC57\")]'))\n",
    "                time.sleep(0.8)\n",
    "            i=elements[count]\n",
    "            sodelhi.append(i.get_attribute('innerHTML'))\n",
    "            if len(sodelhi)>=500:\n",
    "                break\n",
    "            count+=1\n",
    "        break\n",
    "    except StaleElementReferenceException:\n",
    "        continue\n",
    "sodelhi\n"
   ]
  },
  {
   "cell_type": "code",
   "execution_count": null,
   "metadata": {},
   "outputs": [],
   "source": [
    "driver.find_element_by_class_name('glyphsSpriteX__outline__24__grey_9').click()\n",
    "waiter=WebDriverWait(driver, 10).until(EC.presence_of_element_located((By.CLASS_NAME, \"TqC_a\")))"
   ]
  },
  {
   "cell_type": "markdown",
   "metadata": {},
   "source": [
    "<h2>Extracting the usernames of the first 500 followers of 'foodtalkindia' :</h2>"
   ]
  },
  {
   "cell_type": "code",
   "execution_count": null,
   "metadata": {},
   "outputs": [],
   "source": [
    "driver.find_element_by_class_name('TqC_a').click()\n",
    "\n",
    "search_box=driver.find_element_by_class_name('XTCLo')\n",
    "search_box.send_keys('foodtalkindia')\n",
    "waiter=WebDriverWait(driver, 10).until(EC.presence_of_element_located((By.CLASS_NAME, \"yCE8d\")))"
   ]
  },
  {
   "cell_type": "code",
   "execution_count": null,
   "metadata": {},
   "outputs": [],
   "source": [
    "driver.find_element_by_class_name('yCE8d').click()\n",
    "waiter=WebDriverWait(driver, 10).until(EC.element_to_be_clickable((By.XPATH, '//a[@class=\"-nal3 \"]/span[@class=\"g47SY \"]')))\n",
    "time.sleep(2)"
   ]
  },
  {
   "cell_type": "code",
   "execution_count": null,
   "metadata": {},
   "outputs": [],
   "source": [
    "driver.find_element_by_xpath('//a[@class=\"-nal3 \"]/span[@class=\"g47SY \"]').click()\n",
    "waiter=WebDriverWait(driver, 10).until(EC.presence_of_element_located((By.XPATH, '//a[contains(@class, \"notranslate\")]')))"
   ]
  },
  {
   "cell_type": "code",
   "execution_count": null,
   "metadata": {},
   "outputs": [],
   "source": [
    "while True:\n",
    "    try:\n",
    "        foodtalkindia=[]\n",
    "        count=0\n",
    "        while True:\n",
    "            elements=driver.find_elements_by_xpath('//a[contains(@class, \"notranslate\")]')\n",
    "            if len(elements)<500:\n",
    "                waiter=WebDriverWait(driver, 10).until(EC.presence_of_element_located((By.XPATH, '//ul[contains(@class, \"jSC57\")]')))\n",
    "                driver.execute_script('arguments[0].scrollIntoView(0, 100);', driver.find_element_by_xpath('//ul[contains(@class, \"jSC57\")]'))\n",
    "                time.sleep(0.8)\n",
    "            i=elements[count]\n",
    "            foodtalkindia.append(i.get_attribute('innerHTML'))\n",
    "            if len(foodtalkindia)>=500:\n",
    "                break\n",
    "            count+=1\n",
    "        break\n",
    "    except StaleElementReferenceException:\n",
    "        continue\n",
    "waiter=WebDriverWait(driver, 10).until(EC.presence_of_element_located((By.CLASS_NAME, \"glyphsSpriteX__outline__24__grey_9\")))\n",
    "foodtalkindia"
   ]
  },
  {
   "cell_type": "markdown",
   "metadata": {},
   "source": [
    "<h2>Printing all the followers of \"foodtalkindia\" that user is following but those who don't follow the user:</h2>\n",
    "<br>I did this by extracting and saving a list of all the user's followers(myfollowers) and those who are followed by the user(following). and getting the answer by using \"(followers_of_foodtalkindia_that_user_is_following)-(user's_followers)\""
   ]
  },
  {
   "cell_type": "code",
   "execution_count": null,
   "metadata": {},
   "outputs": [],
   "source": [
    "driver.find_element_by_class_name('glyphsSpriteX__outline__24__grey_9').click()\n",
    "waiter=WebDriverWait(driver, 10).until(EC.presence_of_element_located((By.CLASS_NAME, \"glyphsSpriteUser__outline__24__grey_9\")))\n",
    "time.sleep(3)"
   ]
  },
  {
   "cell_type": "code",
   "execution_count": null,
   "metadata": {},
   "outputs": [],
   "source": [
    "driver.find_element_by_class_name('glyphsSpriteUser__outline__24__grey_9').click()\n",
    "waiter=WebDriverWait(driver, 10).until(EC.presence_of_element_located((By.XPATH, '//a[@class=\"-nal3 \"]/span')))\n",
    "time.sleep(3)"
   ]
  },
  {
   "cell_type": "code",
   "execution_count": null,
   "metadata": {},
   "outputs": [],
   "source": [
    "total_followers=int(driver.find_element_by_xpath('//a[@class=\"-nal3 \"]/span[@class=\"g47SY \"]').get_attribute('innerHTML'))\n",
    "driver.find_element_by_xpath('//a[@class=\"-nal3 \"]/span[@class=\"g47SY \"]').click()\n",
    "waiter=WebDriverWait(driver, 10).until(EC.presence_of_element_located((By.XPATH, '//a[contains(@class, \"notranslate\")]')))"
   ]
  },
  {
   "cell_type": "code",
   "execution_count": null,
   "metadata": {
    "scrolled": true
   },
   "outputs": [],
   "source": [
    "while True:\n",
    "    try:\n",
    "        myfollowers=[]\n",
    "        count=0\n",
    "        while True:\n",
    "            elements=driver.find_elements_by_xpath('//a[contains(@class, \"notranslate\")]')\n",
    "            if len(elements)<total_followers:\n",
    "                waiter=WebDriverWait(driver, 10).until(EC.presence_of_element_located((By.XPATH, '//ul[contains(@class, \"jSC57\")]')))\n",
    "                driver.execute_script('arguments[0].scrollIntoView(0, 100);', driver.find_element_by_xpath('//ul[contains(@class, \"jSC57\")]'))\n",
    "                time.sleep(0.8)\n",
    "            i=elements[count]\n",
    "            myfollowers.append(i.get_attribute('innerHTML'))\n",
    "            if len(myfollowers)==total_followers:\n",
    "                break\n",
    "            count+=1\n",
    "        break\n",
    "    except StaleElementReferenceException:\n",
    "        continue\n",
    "waiter=WebDriverWait(driver, 10).until(EC.presence_of_element_located((By.CLASS_NAME, 'glyphsSpriteX__outline__24__grey_9')))"
   ]
  },
  {
   "cell_type": "code",
   "execution_count": null,
   "metadata": {},
   "outputs": [],
   "source": [
    "driver.find_element_by_class_name('glyphsSpriteX__outline__24__grey_9').click()\n",
    "waiter=WebDriverWait(driver, 10).until(EC.presence_of_element_located((By.XPATH, '//a[@class=\"-nal3 \"]/span')))"
   ]
  },
  {
   "cell_type": "code",
   "execution_count": null,
   "metadata": {},
   "outputs": [],
   "source": [
    "total_following=int(driver.find_elements_by_xpath('//a[@class=\"-nal3 \"]/span')[1].get_attribute('innerHTML'))\n",
    "driver.find_elements_by_xpath('//a[@class=\"-nal3 \"]/span[@class=\"g47SY \"]')[1].click()\n",
    "waiter=WebDriverWait(driver, 10).until(EC.presence_of_element_located((By.XPATH, '//a[contains(@class, \"notranslate\")]')))"
   ]
  },
  {
   "cell_type": "code",
   "execution_count": null,
   "metadata": {},
   "outputs": [],
   "source": [
    "while True:\n",
    "    try:\n",
    "        following=[]\n",
    "        count=0\n",
    "        while True:\n",
    "            elements=driver.find_elements_by_xpath('//a[contains(@class, \"notranslate\")]')\n",
    "            if len(elements)<total_following:\n",
    "                waiter=WebDriverWait(driver, 10).until(EC.presence_of_element_located((By.XPATH, '//ul[contains(@class, \"jSC57\")]')))\n",
    "                driver.execute_script('arguments[0].scrollIntoView(0, 100);', driver.find_element_by_xpath('//ul[contains(@class, \"jSC57\")]'))\n",
    "                time.sleep(0.8)\n",
    "            i=elements[count]\n",
    "            following.append(i.get_attribute('innerHTML'))\n",
    "            if len(following)==total_following:\n",
    "                break\n",
    "            count+=1\n",
    "        break\n",
    "    except StaleElementReferenceException:\n",
    "        continue"
   ]
  },
  {
   "cell_type": "code",
   "execution_count": null,
   "metadata": {},
   "outputs": [],
   "source": [
    "following=set(following)\n",
    "myfollowers=set(myfollowers)\n",
    "foodtalkindia=set(foodtalkindia)\n",
    "followers_of_foodtalkindia_that_i_am_following= following.intersection(foodtalkindia)\n",
    "print('Given below is a set of all the followers of “foodtalkindia” that I am following but those who don’t follow me.')\n",
    "if len(followers_of_foodtalkindia_that_i_am_following-myfollowers)==0:\n",
    "    print(\"--->No such followers\")\n",
    "for i in followers_of_foodtalkindia_that_i_am_following-myfollowers:\n",
    "    print(i)\n",
    "waiter=WebDriverWait(driver, 10).until(EC.presence_of_element_located((By.CLASS_NAME, \"glyphsSpriteX__outline__24__grey_9\")))"
   ]
  },
  {
   "cell_type": "markdown",
   "metadata": {},
   "source": [
    "<h2>Visiting Coding Ninjas and checking their story with given conditions:</h2>"
   ]
  },
  {
   "cell_type": "code",
   "execution_count": null,
   "metadata": {},
   "outputs": [],
   "source": [
    "driver.find_element_by_class_name('glyphsSpriteX__outline__24__grey_9').click()\n",
    "waiter=WebDriverWait(driver, 10).until(EC.presence_of_element_located((By.CLASS_NAME, \"TqC_a\")))"
   ]
  },
  {
   "cell_type": "code",
   "execution_count": null,
   "metadata": {},
   "outputs": [],
   "source": [
    "driver.find_element_by_class_name('TqC_a').click()\n",
    "\n",
    "search_box=driver.find_element_by_class_name('XTCLo')\n",
    "search_box.send_keys('coding.ninjas')\n",
    "waiter=WebDriverWait(driver, 10).until(EC.presence_of_element_located((By.CLASS_NAME, \"yCE8d\")))"
   ]
  },
  {
   "cell_type": "code",
   "execution_count": null,
   "metadata": {},
   "outputs": [],
   "source": [
    "driver.find_element_by_class_name('yCE8d').click()\n",
    "time.sleep(3)"
   ]
  },
  {
   "cell_type": "code",
   "execution_count": null,
   "metadata": {},
   "outputs": [],
   "source": [
    "try:\n",
    "    if int(driver.find_element_by_xpath('//div[contains(@class, \"h5uC0\")]/canvas').get_attribute('height'))==168:\n",
    "        print('You have not seen the story yet! The story will be shown to you now. check out the driver window')\n",
    "        driver.find_element_by_xpath('//div[contains(@class, \"h5uC0\")]').click()\n",
    "    elif int(driver.find_element_by_xpath('//div[contains(@class, \"h5uC0\")]/canvas').get_attribute('height'))==166:\n",
    "        print('You have already seen the story!')\n",
    "except NoSuchElementException:\n",
    "    print('The user has no story!')"
   ]
  }
 ],
 "metadata": {
  "kernelspec": {
   "display_name": "Python 3",
   "language": "python",
   "name": "python3"
  },
  "language_info": {
   "codemirror_mode": {
    "name": "ipython",
    "version": 3
   },
   "file_extension": ".py",
   "mimetype": "text/x-python",
   "name": "python",
   "nbconvert_exporter": "python",
   "pygments_lexer": "ipython3",
   "version": "3.7.4"
  }
 },
 "nbformat": 4,
 "nbformat_minor": 2
}
